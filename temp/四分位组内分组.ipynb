{
 "cells": [
  {
   "cell_type": "code",
   "execution_count": 119,
   "metadata": {},
   "outputs": [
    {
     "name": "stdout",
     "output_type": "stream",
     "text": [
      "<class 'pandas.core.frame.DataFrame'>\n",
      "RangeIndex: 1419 entries, 0 to 1418\n",
      "Data columns (total 10 columns):\n",
      " #   Column        Non-Null Count  Dtype  \n",
      "---  ------        --------------  -----  \n",
      " 0   单位id          1419 non-null   object \n",
      " 1   单位名称          1419 non-null   object \n",
      " 2   Unnamed: 2    1418 non-null   object \n",
      " 3   二级单位简称        1419 non-null   object \n",
      " 4   组织类别          1419 non-null   object \n",
      " 5   单位分类          1419 non-null   object \n",
      " 6   月份            1419 non-null   int64  \n",
      " 7   合计金额(亿元)      1419 non-null   float64\n",
      " 8   售电量(千瓦时)      1397 non-null   float64\n",
      " 9   度电营销成本(分千瓦时)  1397 non-null   float64\n",
      "dtypes: float64(3), int64(1), object(6)\n",
      "memory usage: 111.0+ KB\n"
     ]
    }
   ],
   "source": [
    "import pandas as pd\n",
    "import numpy as np\n",
    "\n",
    "df = pd.read_excel('C:/Users/JackWu/Desktop/度电营销成本(售电量).xlsx')\n",
    "df.info()"
   ]
  },
  {
   "cell_type": "code",
   "execution_count": 120,
   "metadata": {},
   "outputs": [
    {
     "name": "stdout",
     "output_type": "stream",
     "text": [
      "<class 'pandas.core.frame.DataFrame'>\n",
      "Int64Index: 1395 entries, 0 to 1418\n",
      "Data columns (total 10 columns):\n",
      " #   Column        Non-Null Count  Dtype  \n",
      "---  ------        --------------  -----  \n",
      " 0   单位id          1395 non-null   object \n",
      " 1   单位名称          1395 non-null   object \n",
      " 2   Unnamed: 2    1394 non-null   object \n",
      " 3   二级单位简称        1395 non-null   object \n",
      " 4   组织类别          1395 non-null   object \n",
      " 5   单位分类          1395 non-null   object \n",
      " 6   月份            1395 non-null   int64  \n",
      " 7   合计金额(亿元)      1395 non-null   float64\n",
      " 8   售电量(千瓦时)      1395 non-null   float64\n",
      " 9   度电营销成本(分千瓦时)  1395 non-null   float64\n",
      "dtypes: float64(3), int64(1), object(6)\n",
      "memory usage: 119.9+ KB\n"
     ]
    }
   ],
   "source": [
    "df = df[(df['售电量(千瓦时)'] >= 0)]\n",
    "df.info()"
   ]
  },
  {
   "cell_type": "code",
   "execution_count": 121,
   "metadata": {},
   "outputs": [
    {
     "data": {
      "text/plain": [
       "[10.54, 60371.835, 119499.58, 211173.695, 1011033320.6]"
      ]
     },
     "execution_count": 121,
     "metadata": {},
     "output_type": "execute_result"
    }
   ],
   "source": [
    "sdl = df['售电量(千瓦时)']\n",
    "ddyx = df['度电营销成本(分千瓦时)']\n",
    "quantiles = [0, 0.25, 0.5, 0.75, 1]\n",
    "sdl_bin_edges = (sdl.quantile(quantiles)).tolist()\n",
    "sdl_bin_edges"
   ]
  },
  {
   "cell_type": "code",
   "execution_count": 122,
   "metadata": {},
   "outputs": [],
   "source": [
    "sdl_bin_idx = []\n",
    "sdl_bin_range = []\n",
    "for i in range(len(sdl)):\n",
    "    for j in range(1, len(sdl_bin_edges)):\n",
    "        if sdl.iloc[i] <= sdl_bin_edges[j]:\n",
    "            sdl_bin_idx.append(j)\n",
    "            if j == 1:\n",
    "                sdl_bin_range.append(f'[{sdl_bin_edges[j - 1]:.2f},{sdl_bin_edges[j]:.2f}]')\n",
    "            else:\n",
    "                sdl_bin_range.append(f'({sdl_bin_edges[j - 1]:.2f},{sdl_bin_edges[j]:.2f}]')\n",
    "            break\n",
    "df['sdl_bin_idx'] = sdl_bin_idx\n",
    "df['sdl_bin_range'] = sdl_bin_range"
   ]
  },
  {
   "cell_type": "code",
   "execution_count": 123,
   "metadata": {},
   "outputs": [
    {
     "data": {
      "text/plain": [
       "[[0.560490509106401,\n",
       "  3.04053533468852,\n",
       "  5.95633937036938,\n",
       "  9.67084447828726,\n",
       "  17421.1301423149],\n",
       " [0.0200639349526783,\n",
       "  2.09987596720706,\n",
       "  4.27903823091191,\n",
       "  6.08271015272136,\n",
       "  11.6579928238071],\n",
       " [0.335924321514977,\n",
       "  1.88868180491857,\n",
       "  3.898514511844975,\n",
       "  5.22857888528927,\n",
       "  9.5641252290078],\n",
       " [0.00017500464059384,\n",
       "  1.52777464221493,\n",
       "  2.64606537251523,\n",
       "  3.768698888634,\n",
       "  8.38000614171525]]"
      ]
     },
     "execution_count": 123,
     "metadata": {},
     "output_type": "execute_result"
    }
   ],
   "source": [
    "ddyx_bin_edges = []\n",
    "for i in range(1, len(sdl_bin_edges)):\n",
    "    temp_ddyx = None\n",
    "    if i == 1:\n",
    "        temp_ddyx = ddyx[(sdl >= sdl_bin_edges[i - 1]) & (sdl <= sdl_bin_edges[i])]\n",
    "    else:\n",
    "        temp_ddyx = ddyx[(sdl > sdl_bin_edges[i - 1]) & (sdl <= sdl_bin_edges[i])]\n",
    "    ddyx_bin_edges.append((temp_ddyx.quantile(quantiles)).tolist())\n",
    "ddyx_bin_edges"
   ]
  },
  {
   "cell_type": "code",
   "execution_count": 124,
   "metadata": {},
   "outputs": [],
   "source": [
    "ddyx_bin_idx = []\n",
    "ddyx_bin_range = []\n",
    "for i in range(len(ddyx)):\n",
    "    bin_edges = ddyx_bin_edges[sdl_bin_idx[i] - 1]\n",
    "    for j in range(1, len(bin_edges)):\n",
    "        if ddyx.iloc[i] <= bin_edges[j]:\n",
    "            ddyx_bin_idx.append(j)\n",
    "            if j == 1:\n",
    "                ddyx_bin_range.append(f'[{bin_edges[j - 1]:.2f},{bin_edges[j]:.2f}]')\n",
    "            else:\n",
    "                ddyx_bin_range.append(f'({bin_edges[j - 1]:.2f},{bin_edges[j]:.2f}]')\n",
    "            break\n",
    "df['ddyx_bin_idx'] = ddyx_bin_idx\n",
    "df['ddyx_bin_range'] = ddyx_bin_range"
   ]
  },
  {
   "cell_type": "code",
   "execution_count": null,
   "metadata": {},
   "outputs": [],
   "source": [
    "df.to_excel('C:/Users/JackWu/Desktop/new.xlsx', index=False)"
   ]
  }
 ],
 "metadata": {
  "kernelspec": {
   "display_name": "Python 3",
   "language": "python",
   "name": "python3"
  },
  "language_info": {
   "codemirror_mode": {
    "name": "ipython",
    "version": 3
   },
   "file_extension": ".py",
   "mimetype": "text/x-python",
   "name": "python",
   "nbconvert_exporter": "python",
   "pygments_lexer": "ipython3",
   "version": "3.8.10"
  },
  "orig_nbformat": 4,
  "vscode": {
   "interpreter": {
    "hash": "774461dc5aef12d917bc7b880debab0ba148a36b5e0ad7808064037ec7487bd6"
   }
  }
 },
 "nbformat": 4,
 "nbformat_minor": 2
}
